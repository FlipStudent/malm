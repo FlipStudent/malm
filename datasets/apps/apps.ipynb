{
 "cells": [
  {
   "cell_type": "code",
   "execution_count": 2,
   "metadata": {},
   "outputs": [
    {
     "name": "stderr",
     "output_type": "stream",
     "text": [
      "c:\\Users\\thijs\\miniconda3\\envs\\mallm\\Lib\\site-packages\\tqdm\\auto.py:21: TqdmWarning: IProgress not found. Please update jupyter and ipywidgets. See https://ipywidgets.readthedocs.io/en/stable/user_install.html\n",
      "  from .autonotebook import tqdm as notebook_tqdm\n"
     ]
    }
   ],
   "source": [
    "from datasets import load_dataset, Dataset, concatenate_datasets\n",
    "import json\n",
    "import matplotlib.pyplot as plt\n",
    "import numpy as np"
   ]
  },
  {
   "cell_type": "code",
   "execution_count": 3,
   "metadata": {},
   "outputs": [
    {
     "name": "stdout",
     "output_type": "stream",
     "text": [
      "DatasetDict({\n",
      "    train: Dataset({\n",
      "        features: ['problem_id', 'question', 'solutions', 'input_output', 'difficulty', 'url', 'starter_code'],\n",
      "        num_rows: 5000\n",
      "    })\n",
      "    test: Dataset({\n",
      "        features: ['problem_id', 'question', 'solutions', 'input_output', 'difficulty', 'url', 'starter_code'],\n",
      "        num_rows: 5000\n",
      "    })\n",
      "})\n"
     ]
    }
   ],
   "source": [
    "ds = load_dataset(\"codeparrot/apps\", \"all\")\n",
    "print(ds)"
   ]
  },
  {
   "cell_type": "code",
   "execution_count": 111,
   "metadata": {},
   "outputs": [
    {
     "name": "stdout",
     "output_type": "stream",
     "text": [
      "Anton has the integer x. He is interested what positive integer, which doesn't exceed x, has the maximum sum of digits.\n",
      "\n",
      "Your task is to help Anton and to find the integer that interests him. If there are several such integers, determine the biggest of them. \n",
      "\n",
      "\n",
      "-----Input-----\n",
      "\n",
      "The first line contains the positive integer x (1 ≤ x ≤ 10^18) — the integer which Anton has. \n",
      "\n",
      "\n",
      "-----Output-----\n",
      "\n",
      "Print the positive integer which doesn't exceed x and has the maximum sum of digits. If there are several such integers, print the biggest of them. Printed integer must not contain leading zeros.\n",
      "\n",
      "\n",
      "-----Examples-----\n",
      "Input\n",
      "100\n",
      "\n",
      "Output\n",
      "99\n",
      "\n",
      "Input\n",
      "48\n",
      "\n",
      "Output\n",
      "48\n",
      "\n",
      "Input\n",
      "521\n",
      "\n",
      "Output\n",
      "499\n",
      "\n",
      "Solutions:  25\n",
      "ANSWER\n",
      " def sum_str(y):\n",
      "    return sum(map(int, str(y)))\n",
      "\n",
      "\n",
      "x = input()\n",
      "length = len(x)\n",
      "bad_answer = str(int(x[0]) - 1) + '9' * (length - 1) \n",
      "total = sum_str(bad_answer)\n",
      "\n",
      "\n",
      "if length == 1 or sum_str(x) >= total:\n",
      "    print(x)\n",
      "else:\n",
      "    for i in range(length - 1, 0, -1):\n",
      "        new_total = 9 * (length - i)\n",
      "        new_answer = str(int(x[:i]) - 1)\n",
      "        new_total += sum_str(new_answer)\n",
      "\n",
      "        if new_total >= total:\n",
      "            new_answer = new_answer if new_answer != '0' else ''\n",
      "            print(new_answer + '9' * (length - i))\n",
      "            break\n",
      "    else:\n",
      "        print(bad_answer)\n",
      "\n"
     ]
    }
   ],
   "source": [
    "sample = ds['test'][1]\n",
    "# print(ds['train'])\n",
    "print(sample['question'])\n",
    "print(\"\\nSolutions: \", len(json.loads(sample['solutions'])))\n",
    "print(\"ANSWER\\n\", json.loads(sample['solutions'])[4])\n",
    "# # non-empty solutions and input_output features can be parsed from text format this way:\n",
    "# sample[\"solutions\"] = json.loads(sample[\"solutions\"])\n",
    "# sample[\"input_output\"] = json.loads(sample[\"input_output\"])\n",
    "# print(sample)"
   ]
  },
  {
   "cell_type": "code",
   "execution_count": 112,
   "metadata": {},
   "outputs": [
    {
     "name": "stdout",
     "output_type": "stream",
     "text": [
      "Number of questions without answer:  1235\n"
     ]
    }
   ],
   "source": [
    "i=0\n",
    "save_num_of_solutions = []\n",
    "for question in ds['test']:\n",
    "    if len(question['solutions']) > 0:\n",
    "        num_sol = len(json.loads(question['solutions']))\n",
    "        save_num_of_solutions.append(num_sol)\n",
    "    else:\n",
    "        i+= 1\n",
    "print(\"Number of questions without answer: \", i)"
   ]
  },
  {
   "cell_type": "code",
   "execution_count": null,
   "metadata": {},
   "outputs": [
    {
     "data": {
      "image/png": "[encoded data removed]",
      "text/plain": [
       "<Figure size 640x480 with 1 Axes>"
      ]
     },
     "metadata": {},
     "output_type": "display_data"
    }
   ],
   "source": [
    "y = np.asarray(save_num_of_solutions)\n",
    "plt.hist(y, bins=range(0,110))\n",
    "plt.show()"
   ]
  },
  {
   "cell_type": "markdown",
   "metadata": {},
   "source": [
    "TRAIN"
   ]
  },
  {
   "cell_type": "code",
   "execution_count": null,
   "metadata": {},
   "outputs": [
    {
     "name": "stdout",
     "output_type": "stream",
     "text": [
      "<s>[INST] Polycarp has $n$ different binary words. A word called binary if it contains only characters '0' and '1'. For example, these words are binary: \"0001\", \"11\", \"0\" and \"0011100\".\n",
      "\n",
      "Polycarp wants to offer his set of $n$ binary words to play a game \"words\". In this game, players name words and each next word (starting from the second) must start with the last character of the previous word. The first word can be any. For example, these sequence of words can be named during the game: \"0101\", \"1\", \"10\", \"00\", \"00001\".\n",
      "\n",
      "Word reversal is the operation of reversing the order of the characters. For example, the word \"0111\" after the reversal becomes \"1110\", the word \"11010\" after the reversal becomes \"01011\".\n",
      "\n",
      "Probably, Polycarp has such a set of words that there is no way to put them in the order correspondent to the game rules. In this situation, he wants to reverse some words from his set so that:  the final set of $n$ words still contains different words (i.e. all words are unique);  there is a way to put all words of the final set of words in the order so that the final sequence of $n$ words is consistent with the game rules. \n",
      "\n",
      "Polycarp wants to reverse minimal number of words. Please, help him.\n",
      "\n",
      "\n",
      "-----Input-----\n",
      "\n",
      "The first line of the input contains one integer $t$ ($1 \\le t \\le 10^4$) — the number of test cases in the input. Then $t$ test cases follow.\n",
      "\n",
      "The first line of a test case contains one integer $n$ ($1 \\le n \\le 2\\cdot10^5$) — the number of words in the Polycarp's set. Next $n$ lines contain these words. All of $n$ words aren't empty and contains only characters '0' and '1'. The sum of word lengths doesn't exceed $4\\cdot10^6$. All words are different.\n",
      "\n",
      "Guaranteed, that the sum of $n$ for all test cases in the input doesn't exceed $2\\cdot10^5$. Also, guaranteed that the sum of word lengths for all test cases in the input doesn't exceed $4\\cdot10^6$.\n",
      "\n",
      "\n",
      "-----Output-----\n",
      "\n",
      "Print answer for all of $t$ test cases in the order they appear.\n",
      "\n",
      "If there is no answer for the test case, print -1. Otherwise, the first line of the output should contain $k$ ($0 \\le k \\le n$) — the minimal number of words in the set which should be reversed. The second line of the output should contain $k$ distinct integers — the indexes of the words in the set which should be reversed. Words are numerated from $1$ to $n$ in the order they appear. If $k=0$ you can skip this line (or you can print an empty line). If there are many answers you can print any of them.\n",
      "\n",
      "\n",
      "-----Example-----\n",
      "Input\n",
      "4\n",
      "4\n",
      "0001\n",
      "1000\n",
      "0011\n",
      "0111\n",
      "3\n",
      "010\n",
      "101\n",
      "0\n",
      "2\n",
      "00000\n",
      "00001\n",
      "4\n",
      "01\n",
      "001\n",
      "0001\n",
      "00001\n",
      "\n",
      "Output\n",
      "1\n",
      "3 \n",
      "-1\n",
      "0\n",
      "\n",
      "2\n",
      "1 2 [INST]\n",
      "for _ in range(int(input())):\n",
      "    n = int(input())\n",
      "    mass = []\n",
      "    zo = 0\n",
      "    oz = 0\n",
      "    zz = 0\n",
      "    oo = 0\n",
      "    ozs = []\n",
      "    zos = []\n",
      "    ozss = set()\n",
      "    zoss = set()\n",
      "    for j in range(n):\n",
      "        k = input()\n",
      "        mass.append(k)\n",
      "        if k[0] == '0' and k[-1] == '1':\n",
      "            zoss.add(k)\n",
      "            zos.append(j + 1)\n",
      "            zo += 1\n",
      "        elif k[0] == '1' and k[-1] == '0':\n",
      "            ozss.add(k)\n",
      "            ozs.append(j + 1)\n",
      "            oz += 1\n",
      "        elif k[0] == '0' and k[-1] == '0':\n",
      "            zz += 1\n",
      "        else:\n",
      "            oo += 1\n",
      "    if zz and oo and not oz and not zo:\n",
      "        print(-1)\n",
      "        continue\n",
      "    else:\n",
      "        if zo > oz:\n",
      "            print((zo - oz) // 2)\n",
      "            ans = []\n",
      "            need = (zo - oz) // 2\n",
      "            i = 0\n",
      "            while need:\n",
      "                zzz = mass[zos[i] - 1][len(mass[zos[i] - 1]) - 1:: -1]\n",
      "                if zzz not in ozss:\n",
      "                    ans.append(zos[i])\n",
      "                    need -= 1\n",
      "                i += 1\n",
      "            print(*ans)\n",
      "        else:\n",
      "            print((oz - zo) // 2)\n",
      "            ans = []\n",
      "            need = (oz - zo) // 2\n",
      "            i = 0\n",
      "            while need:\n",
      "                zzz = mass[ozs[i] - 1][len(mass[ozs[i] - 1]) - 1:: -1]\n",
      "                if zzz not in zoss:\n",
      "                    ans.append(ozs[i])\n",
      "                    need -= 1\n",
      "                i += 1\n",
      "            print(*ans)\n",
      " </s>\n",
      "\n"
     ]
    }
   ],
   "source": [
    "questions = []\n",
    "solutions = []\n",
    "fulltexts = []\n",
    "for problem in ds['train']:\n",
    "    for solution in json.loads(problem['solutions']):\n",
    "        questions.append(\"\" + problem['question'] + \"\")\n",
    "        solutions.append(solution)\n",
    "        fulltext = \"<s>[INST] \" + problem['question'] + \" [/INST]\\n\" + solution + \" </s>\\n\"\n",
    "        print(fulltext)\n",
    "        break\n",
    "    break"
   ]
  },
  {
   "cell_type": "code",
   "execution_count": 119,
   "metadata": {},
   "outputs": [],
   "source": [
    "train_set = Dataset.from_dict({\"text\":questions, \"code\":solutions})"
   ]
  },
  {
   "cell_type": "code",
   "execution_count": 121,
   "metadata": {},
   "outputs": [
    {
     "data": {
      "text/plain": [
       "Dataset({\n",
       "    features: ['text', 'code'],\n",
       "    num_rows: 117232\n",
       "})"
      ]
     },
     "execution_count": 121,
     "metadata": {},
     "output_type": "execute_result"
    }
   ],
   "source": [
    "# train_set['text']\n",
    "train_set"
   ]
  },
  {
   "cell_type": "code",
   "execution_count": 117,
   "metadata": {},
   "outputs": [
    {
     "name": "stderr",
     "output_type": "stream",
     "text": [
      "Saving the dataset (0/1 shards):   0%|          | 0/117232 [00:00<?, ? examples/s]"
     ]
    },
    {
     "name": "stderr",
     "output_type": "stream",
     "text": [
      "Saving the dataset (1/1 shards): 100%|██████████| 117232/117232 [00:00<00:00, 211448.17 examples/s]\n"
     ]
    }
   ],
   "source": [
    "train_set.save_to_disk(\"apps_train.hf\")"
   ]
  },
  {
   "cell_type": "markdown",
   "metadata": {},
   "source": [
    "TEST"
   ]
  },
  {
   "cell_type": "code",
   "execution_count": 3,
   "metadata": {},
   "outputs": [],
   "source": [
    "questions = []\n",
    "inputs = []\n",
    "outputs = []\n",
    "\n",
    "n_inputs = []\n",
    "n_outputs = []\n",
    "for problem in ds['test']:\n",
    "    questions.append(problem['question'])\n",
    "    input = json.loads(problem['input_output'])['inputs']\n",
    "    output = json.loads(problem['input_output'])['outputs']\n",
    "    inputs.append(input)\n",
    "    outputs.append(output)\n",
    "\n",
    "    n_inputs.append(len(input))\n",
    "    n_outputs.append(len(output))"
   ]
  },
  {
   "cell_type": "code",
   "execution_count": null,
   "metadata": {},
   "outputs": [
    {
     "data": {
      "image/png": "[encoded data removed]",
      "text/plain": [
       "<Figure size 640x480 with 1 Axes>"
      ]
     },
     "metadata": {},
     "output_type": "display_data"
    }
   ],
   "source": [
    "plt.hist(np.asarray(n_inputs), bins=range(0,110))\n",
    "plt.show()\n",
    "# print(inputs[0])"
   ]
  },
  {
   "cell_type": "code",
   "execution_count": 14,
   "metadata": {},
   "outputs": [
    {
     "name": "stdout",
     "output_type": "stream",
     "text": [
      "[1, 2, 3]\n",
      "[0, 1]\n",
      "[1]\n",
      "3\n",
      "3\n",
      "9\n",
      "[3, 2, 3]\n",
      "[1]\n",
      "[1, 2]\n",
      "[1, 5, 3, 6, 7]\n",
      "[1, 5, 3, 6, 7]\n",
      "[1, 5, 3, 6, 7]\n",
      "[['1', '0', '1', '0', '0'], ['1', '0', '1', '1', '1'], ['1', '1', '1', '1', '1'], ['1', '0', '0', '1', '0']]\n",
      "[['0', '0']]\n",
      "2\n",
      "1\n",
      "3\n",
      "1\n",
      "[[0, 0, 0], [0, 1, 0], [0, 0, 0]]\n",
      "[[0, 1], [0, 0]]\n",
      "2\n",
      "2\n",
      "[[1, 3, 1], [1, 5, 1], [4, 2, 1]]\n",
      "[[1, 2, 3], [4, 5, 6]]\n",
      "[[-2, -3, 3], [-5, -10, 1], [10, 30, -5]]\n",
      "[[0]]\n",
      "[1, 2, 3]\n",
      "[0]\n",
      "[[1, 2, 3], [4, 5, 6], [7, 8, 9]]\n",
      "[[1, 2, 3, 4], [5, 6, 7, 8], [9, 10, 11, 12]]\n",
      "[[2, 9, 10], [3, 7, 15], [5, 12, 12], [15, 20, 10], [19, 24, 8]]\n",
      "[[0, 2, 3], [2, 5, 3]]\n",
      "[1, 1, 2]\n",
      "[1, 2, 3]\n",
      "[[2], [3, 4], [6, 5, 7], [4, 1, 8, 3]]\n",
      "[[-10]]\n",
      "[1, 2, 2]\n",
      "[0]\n",
      "[5, 7, 7, 8, 8, 10]\n",
      "[5, 7, 7, 8, 8, 10]\n",
      "[]\n",
      "3\n",
      "1\n",
      "[[1, 3], [2, 6], [8, 10], [15, 18]]\n",
      "[[1, 4], [4, 5]]\n",
      "[[10, 1, 2, 7, 6, 1, 5]]\n",
      "[[2, 5, 2, 1, 2]]\n",
      "[[1, 3], [6, 9]]\n",
      "[[1, 2], [3, 5], [6, 7], [8, 10], [12, 16]]\n",
      "[-2, 3, 4]\n",
      "[4, 2, 3]\n",
      "[3, -1, 0, 2]\n",
      "[2, -3, -1, 5, -4]\n",
      "[0, 2, 3, -3, 3, -4, 5, 6, 8, 8, 9]\n",
      "[0, 2, 1, -6, 6, 7, 9, -1, 2, 0, 1]\n",
      "[0, 2, 1, -6, 6, -7, 9, 1, 2, 0, 1]\n",
      "[3, 3, 6, 5, -2, 2, 5, 1, -9, 4]\n",
      "[2, 3]\n",
      "[1, 2, 3]\n",
      "[1, 2]\n",
      "3\n",
      "0\n",
      "1\n",
      "11\n",
      "128\n",
      "4294967293\n",
      "[1, 2, 3]\n",
      "[4, 3, 2, 1]\n",
      "[0]\n",
      "43261596\n",
      "4294967293\n",
      "5\n",
      "1\n",
      "[3, 2, 0, -4]\n",
      "[1, 2]\n",
      "[1]\n",
      "[2, 7, 11, 15]\n",
      "[3, 2, 4]\n",
      "[3, 3]\n"
     ]
    }
   ],
   "source": [
    "for input_series in inputs:\n",
    "    for input in input_series:\n",
    "        if not isinstance(input[0], str):\n",
    "            print(input[0])\n",
    "# print([[\"a a a\" for i in range(3)] for i in range(5000)])"
   ]
  },
  {
   "cell_type": "code",
   "execution_count": 10,
   "metadata": {},
   "outputs": [
    {
     "ename": "ArrowInvalid",
     "evalue": "Column 1 named inputs expected length 5000 but got length 985040116",
     "output_type": "error",
     "traceback": [
      "\u001b[1;31m---------------------------------------------------------------------------\u001b[0m",
      "\u001b[1;31mArrowInvalid\u001b[0m                              Traceback (most recent call last)",
      "Cell \u001b[1;32mIn[10], line 5\u001b[0m\n\u001b[0;32m      3\u001b[0m inp \u001b[38;5;241m=\u001b[39m [[\u001b[38;5;124m\"\u001b[39m\u001b[38;5;124ma a a\u001b[39m\u001b[38;5;124m\"\u001b[39m \u001b[38;5;28;01mfor\u001b[39;00m i \u001b[38;5;129;01min\u001b[39;00m \u001b[38;5;28mrange\u001b[39m(\u001b[38;5;241m3\u001b[39m)] \u001b[38;5;28;01mfor\u001b[39;00m j \u001b[38;5;129;01min\u001b[39;00m \u001b[38;5;28mrange\u001b[39m(\u001b[38;5;241m5000\u001b[39m)]\n\u001b[0;32m      4\u001b[0m testdic \u001b[38;5;241m=\u001b[39m {\u001b[38;5;124m\"\u001b[39m\u001b[38;5;124mtext\u001b[39m\u001b[38;5;124m\"\u001b[39m:questions, \u001b[38;5;124m\"\u001b[39m\u001b[38;5;124minputs\u001b[39m\u001b[38;5;124m\"\u001b[39m:inp}\n\u001b[1;32m----> 5\u001b[0m test_set \u001b[38;5;241m=\u001b[39m \u001b[43mDataset\u001b[49m\u001b[38;5;241;43m.\u001b[39;49m\u001b[43mfrom_dict\u001b[49m\u001b[43m(\u001b[49m\u001b[43mdic\u001b[49m\u001b[43m)\u001b[49m\n\u001b[0;32m      6\u001b[0m \u001b[38;5;66;03m# Dataset.Features \u001b[39;00m\n",
      "File \u001b[1;32mc:\\Users\\thijs\\miniconda3\\envs\\mallm\\Lib\\site-packages\\datasets\\arrow_dataset.py:943\u001b[0m, in \u001b[0;36mDataset.from_dict\u001b[1;34m(cls, mapping, features, info, split)\u001b[0m\n\u001b[0;32m    941\u001b[0m     arrow_typed_mapping[col] \u001b[38;5;241m=\u001b[39m data\n\u001b[0;32m    942\u001b[0m mapping \u001b[38;5;241m=\u001b[39m arrow_typed_mapping\n\u001b[1;32m--> 943\u001b[0m pa_table \u001b[38;5;241m=\u001b[39m \u001b[43mInMemoryTable\u001b[49m\u001b[38;5;241;43m.\u001b[39;49m\u001b[43mfrom_pydict\u001b[49m\u001b[43m(\u001b[49m\u001b[43mmapping\u001b[49m\u001b[38;5;241;43m=\u001b[39;49m\u001b[43mmapping\u001b[49m\u001b[43m)\u001b[49m\n\u001b[0;32m    944\u001b[0m \u001b[38;5;28;01mif\u001b[39;00m info \u001b[38;5;129;01mis\u001b[39;00m \u001b[38;5;28;01mNone\u001b[39;00m:\n\u001b[0;32m    945\u001b[0m     info \u001b[38;5;241m=\u001b[39m DatasetInfo()\n",
      "File \u001b[1;32mc:\\Users\\thijs\\miniconda3\\envs\\mallm\\Lib\\site-packages\\datasets\\table.py:757\u001b[0m, in \u001b[0;36mInMemoryTable.from_pydict\u001b[1;34m(cls, *args, **kwargs)\u001b[0m\n\u001b[0;32m    741\u001b[0m \u001b[38;5;129m@classmethod\u001b[39m\n\u001b[0;32m    742\u001b[0m \u001b[38;5;28;01mdef\u001b[39;00m\u001b[38;5;250m \u001b[39m\u001b[38;5;21mfrom_pydict\u001b[39m(\u001b[38;5;28mcls\u001b[39m, \u001b[38;5;241m*\u001b[39margs, \u001b[38;5;241m*\u001b[39m\u001b[38;5;241m*\u001b[39mkwargs):\n\u001b[0;32m    743\u001b[0m \u001b[38;5;250m    \u001b[39m\u001b[38;5;124;03m\"\"\"\u001b[39;00m\n\u001b[0;32m    744\u001b[0m \u001b[38;5;124;03m    Construct a Table from Arrow arrays or columns.\u001b[39;00m\n\u001b[0;32m    745\u001b[0m \n\u001b[1;32m   (...)\u001b[0m\n\u001b[0;32m    755\u001b[0m \u001b[38;5;124;03m        `datasets.table.Table`\u001b[39;00m\n\u001b[0;32m    756\u001b[0m \u001b[38;5;124;03m    \"\"\"\u001b[39;00m\n\u001b[1;32m--> 757\u001b[0m     \u001b[38;5;28;01mreturn\u001b[39;00m \u001b[38;5;28mcls\u001b[39m(\u001b[43mpa\u001b[49m\u001b[38;5;241;43m.\u001b[39;49m\u001b[43mTable\u001b[49m\u001b[38;5;241;43m.\u001b[39;49m\u001b[43mfrom_pydict\u001b[49m\u001b[43m(\u001b[49m\u001b[38;5;241;43m*\u001b[39;49m\u001b[43margs\u001b[49m\u001b[43m,\u001b[49m\u001b[43m \u001b[49m\u001b[38;5;241;43m*\u001b[39;49m\u001b[38;5;241;43m*\u001b[39;49m\u001b[43mkwargs\u001b[49m\u001b[43m)\u001b[49m)\n",
      "File \u001b[1;32mc:\\Users\\thijs\\miniconda3\\envs\\mallm\\Lib\\site-packages\\pyarrow\\table.pxi:1968\u001b[0m, in \u001b[0;36mpyarrow.lib._Tabular.from_pydict\u001b[1;34m()\u001b[0m\n",
      "File \u001b[1;32mc:\\Users\\thijs\\miniconda3\\envs\\mallm\\Lib\\site-packages\\pyarrow\\table.pxi:6338\u001b[0m, in \u001b[0;36mpyarrow.lib._from_pydict\u001b[1;34m()\u001b[0m\n",
      "File \u001b[1;32mc:\\Users\\thijs\\miniconda3\\envs\\mallm\\Lib\\site-packages\\pyarrow\\table.pxi:4868\u001b[0m, in \u001b[0;36mpyarrow.lib.Table.from_arrays\u001b[1;34m()\u001b[0m\n",
      "File \u001b[1;32mc:\\Users\\thijs\\miniconda3\\envs\\mallm\\Lib\\site-packages\\pyarrow\\table.pxi:4214\u001b[0m, in \u001b[0;36mpyarrow.lib.Table.validate\u001b[1;34m()\u001b[0m\n",
      "File \u001b[1;32mc:\\Users\\thijs\\miniconda3\\envs\\mallm\\Lib\\site-packages\\pyarrow\\error.pxi:92\u001b[0m, in \u001b[0;36mpyarrow.lib.check_status\u001b[1;34m()\u001b[0m\n",
      "\u001b[1;31mArrowInvalid\u001b[0m: Column 1 named inputs expected length 5000 but got length 985040116"
     ]
    }
   ],
   "source": [
    "dic = {\"text\":questions, \"inputs\":str(inputs), \"outputs\":str(outputs)}\n",
    "# dic_df = pd.DataFrame.from_dict(dic)\n",
    "inp = [[\"a a a\" for i in range(3)] for j in range(5000)]\n",
    "testdic = {\"text\":questions, \"inputs\":inp}\n",
    "test_set = Dataset.from_dict(dic)\n",
    "# Dataset.Features"
   ]
  },
  {
   "cell_type": "code",
   "execution_count": 118,
   "metadata": {},
   "outputs": [],
   "source": [
    "dataset_cc = concatenate_datasets([train_set, train_set])\n"
   ]
  }
 ],
 "metadata": {
  "kernelspec": {
   "display_name": "mallm",
   "language": "python",
   "name": "python3"
  },
  "language_info": {
   "codemirror_mode": {
    "name": "ipython",
    "version": 3
   },
   "file_extension": ".py",
   "mimetype": "text/x-python",
   "name": "python",
   "nbconvert_exporter": "python",
   "pygments_lexer": "ipython3",
   "version": "3.12.0"
  }
 },
 "nbformat": 4,
 "nbformat_minor": 2
}
